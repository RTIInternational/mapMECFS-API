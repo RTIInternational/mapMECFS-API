{
 "cells": [
  {
   "cell_type": "markdown",
   "id": "d567b265",
   "metadata": {},
   "source": []
  },
  {
   "cell_type": "code",
   "execution_count": null,
   "id": "41a70934",
   "metadata": {},
   "outputs": [],
   "source": [
    "# Import the ckanapi module\n",
    "from ckanapi import RemoteCKAN\n",
    "from werkzeug.datastructures import FileStorage\n",
    "import json\n",
    "from base64 import b64encode"
   ]
  },
  {
   "cell_type": "code",
   "execution_count": null,
   "id": "15a054b2",
   "metadata": {},
   "outputs": [],
   "source": [
    "# API call of the mapMECFS portal. Please make sure to retrieve your personal API token from your mapMECFS user profile page\n",
    "mapmecfs = RemoteCKAN('https://staging.mapmecfs.org', apikey = 'API-TOKEN-HERE')"
   ]
  },
  {
   "cell_type": "code",
   "execution_count": null,
   "id": "155f5ac1",
   "metadata": {},
   "outputs": [],
   "source": [
    "# This dataset includes the basic elements needed to create a dataset\n",
    "dataset = {\n",
    "        \"name\": \"api-test7\", #name must be lowercase and '-' replaces spaces; this is what the URL will be, therefore make sure the URL is not already taken!\n",
    "        \"title\": \"API Test7\", #title as it will appear on the dataset page UI\n",
    "        \"data_type\": \"Gene Expression\", #should be an existing data type\n",
    "        \"owner_org\": \"rti-international\", #should be an existing organization; all lowercase and '-' replaces spaces\n",
    "        \"maintainer\": \"Ravi Mathur\", #free text\n",
    "        \"maintainer_email\": \"rmathur@rti.org\", #free text\n",
    "        \"private\": True, #default this is False, therefore by default API new datasets are public, which is a security concern\n",
    "    }\n",
    "mapmecfs.call_action('package_create',\n",
    "                     dataset)\n"
   ]
  },
  {
   "cell_type": "code",
   "execution_count": null,
   "id": "4474bc27",
   "metadata": {},
   "outputs": [],
   "source": [
    "# This dataset creation specifies all metadata elements available as of 4/5/2023\n",
    "dataset_complete = {\n",
    "    \"approach\": \"\",\n",
    "    \"assay\": \"Microarray\",\n",
    "    \"assay_crystallography\": \"\",\n",
    "    \"assay_gel\": \"\",\n",
    "    \"assay_sequencing\": \"\",\n",
    "    \"case_definitions_2\": \"2003 Canadian Consensus Criteria\",\n",
    "    \"case_definitions_other\": \"\",\n",
    "    \"checkbox_extra_studies\": \"\",\n",
    "    \"checkbox_other_recruitment_sites\": \"California (USA)\",\n",
    "    \"common_data_elements\": \"\",\n",
    "    \"comorbidities_4\": \"None\",\n",
    "    \"comorbidities_other\": \"\",\n",
    "    \"data_type\": \"Gene Expression\",\n",
    "    \"illness_course_6\": \"None\",\n",
    "    \"illness_course_other\": \"\",\n",
    "    \"license_title\": \"Creative Commons Attribution 4.0\",\n",
    "    \"maintainer\": \"RTI International\",\n",
    "    \"maintainer_email\": \"mapmecfs@rti.org\",\n",
    "    \"measurement\": \"TPM\",\n",
    "    \"name\": \"api-test-complete2\",\n",
    "    \"notes\": \"API test dataset\",\n",
    "    \"organism\": \"Human\",\n",
    "    \"owner_org\": \"rti-international\",\n",
    "    \"other_approach\": \"\",\n",
    "    \"other_assay\": \"\",\n",
    "    \"other_common_data_elements\": \"\",\n",
    "    \"other_measurement\": \"\",\n",
    "    \"other_phenotype\": \"\",\n",
    "    \"other_sample\": \"\",\n",
    "    \"phenotype\": \"ME/CFS case-control\",\n",
    "    \"private\": True,\n",
    "    \"recruitment_sites_other\": \"\",\n",
    "    \"sample\": \"PBMC\",\n",
    "    \"state\": \"active\",\n",
    "    \"studies_clinical_trial_identifier\": \"\",\n",
    "    \"studies_other\": \"\",\n",
    "    \"study_type\": \"\",\n",
    "    \"title\": \"API Test Complete\"\n",
    "}\n",
    "mapmecfs.call_action('package_create',\n",
    "                              dataset_complete)"
   ]
  },
  {
   "cell_type": "code",
   "execution_count": null,
   "id": "ecf827c6",
   "metadata": {},
   "outputs": [],
   "source": [
    "filePath = 'PATH-TO-FILE'\n",
    "resource_test = {\n",
    "    \"package_id\": \"api-test-complete\", #must be a dataset (i.e. package) that already exists; this is the 'name' of that dataset/package\n",
    "    \"name\": \"Test Gene Expression Profile\", #the resource name that will be displayed on the UI\n",
    "    \"resource_file_type\": \"Results File\", # resource type; expected values include: Data File, Phenotype File, Results File, and Supporting File\n",
    "    \"format\": \"TSV\" # file format must be 'TSV' or 'TXT'\n",
    "}\n",
    "\n",
    "with open(filePath, 'rb') as file:\n",
    "    mapmecfs.call_action('resource_create', resource_test, files={'upload': file})\n"
   ]
  }
 ],
 "metadata": {
  "kernelspec": {
   "display_name": "Python 3",
   "language": "python",
   "name": "python3"
  },
  "language_info": {
   "codemirror_mode": {
    "name": "ipython",
    "version": 3
   },
   "file_extension": ".py",
   "mimetype": "text/x-python",
   "name": "python",
   "nbconvert_exporter": "python",
   "pygments_lexer": "ipython3",
   "version": "3.8.8"
  }
 },
 "nbformat": 4,
 "nbformat_minor": 5
}
